{
 "cells": [
  {
   "cell_type": "code",
   "execution_count": 1,
   "metadata": {},
   "outputs": [],
   "source": [
    "import tensorflow as tf\n",
    "from tensorflow.keras.models import Model\n",
    "from tensorflow.keras.layers import Input\n",
    "from tensorflow.keras.layers import LSTM\n",
    "from tensorflow.keras.layers import Dense\n",
    "from numpy import array"
   ]
  },
  {
   "cell_type": "markdown",
   "metadata": {},
   "source": [
    "## Check return sequences output in LSTM"
   ]
  },
  {
   "cell_type": "code",
   "execution_count": 2,
   "metadata": {
    "tags": []
   },
   "outputs": [
    {
     "output_type": "stream",
     "name": "stdout",
     "text": "[[-0.11731906]]\n"
    }
   ],
   "source": [
    "#define the model\n",
    "inputs1 = Input(shape=(3,1))\n",
    "lstm1   = LSTM(1)(inputs1)\n",
    "model   = Model(inputs = inputs1, outputs = lstm1)\n",
    "#define input data\n",
    "data = array([0.1, 0.2, 0.3]).reshape((1,3,1))\n",
    "#make and show prediction\n",
    "print(model.predict(data))"
   ]
  },
  {
   "cell_type": "markdown",
   "metadata": {},
   "source": [
    "The above model gives single hidden state for three time steps. We can obtain the hidden state for each time step."
   ]
  },
  {
   "cell_type": "code",
   "execution_count": 3,
   "metadata": {
    "tags": []
   },
   "outputs": [
    {
     "output_type": "stream",
     "name": "stdout",
     "text": "[[[-0.00474961]\n  [-0.01266974]\n  [-0.02270861]]]\n"
    }
   ],
   "source": [
    "#define the model\n",
    "inputs1 = Input(shape=(3,1))\n",
    "lstm1   = LSTM(1, return_sequences=True)(inputs1)\n",
    "model   = Model(inputs = inputs1, outputs = lstm1)\n",
    "#define input data\n",
    "data = array([0.1, 0.2, 0.3]).reshape((1,3,1))\n",
    "#make and show prediction\n",
    "print(model.predict(data))"
   ]
  },
  {
   "cell_type": "markdown",
   "metadata": {},
   "source": [
    "## Return States"
   ]
  },
  {
   "cell_type": "code",
   "execution_count": 4,
   "metadata": {
    "tags": []
   },
   "outputs": [
    {
     "output_type": "stream",
     "name": "stdout",
     "text": "[array([[-0.01870343]], dtype=float32), array([[-0.01870343]], dtype=float32), array([[-0.03878213]], dtype=float32)]\n"
    }
   ],
   "source": [
    "#define the model\n",
    "inputs1 = Input(shape=(3,1))\n",
    "lstm1, state_h, state_c   = LSTM(1, return_state=True)(inputs1)\n",
    "model   = Model(inputs = inputs1, outputs = [lstm1, state_h, state_c])\n",
    "#define input data\n",
    "data = array([0.1, 0.2, 0.3]).reshape((1,3,1))\n",
    "#make and show prediction\n",
    "print(model.predict(data))"
   ]
  },
  {
   "cell_type": "markdown",
   "metadata": {},
   "source": [
    "## Return States and sequences"
   ]
  },
  {
   "cell_type": "code",
   "execution_count": 5,
   "metadata": {
    "tags": []
   },
   "outputs": [
    {
     "output_type": "stream",
     "name": "stdout",
     "text": "[array([[[-0.00544518],\n        [-0.01447116],\n        [-0.0257654 ]]], dtype=float32), array([[-0.0257654]], dtype=float32), array([[-0.04588732]], dtype=float32)]\n"
    }
   ],
   "source": [
    "#define the model\n",
    "inputs1 = Input(shape=(3,1))\n",
    "lstm1, state_h, state_c   = LSTM(1, return_state=True, return_sequences=True)(inputs1)\n",
    "model   = Model(inputs = inputs1, outputs = [lstm1, state_h, state_c])\n",
    "#define input data\n",
    "data = array([0.1, 0.2, 0.3]).reshape((1,3,1))\n",
    "#make and show prediction\n",
    "print(model.predict(data))"
   ]
  },
  {
   "cell_type": "markdown",
   "metadata": {},
   "source": [
    "# Encoder Decoder Example"
   ]
  },
  {
   "cell_type": "code",
   "execution_count": 6,
   "metadata": {},
   "outputs": [],
   "source": [
    "# returns train, inference_encoder and inference_decoder models\n",
    "def define_models(n_input, n_output, n_units):\n",
    "\t# define training encoder\n",
    "\tencoder_inputs = Input(shape=(None, n_input))\n",
    "\tencoder = LSTM(n_units, return_state=True)\n",
    "\tencoder_outputs, state_h, state_c = encoder(encoder_inputs)\n",
    "\tencoder_states = [state_h, state_c]\n",
    "\t# define training decoder\n",
    "\tdecoder_inputs = Input(shape=(None, n_output))\n",
    "\tdecoder_lstm = LSTM(n_units, return_sequences=True, return_state=True)\n",
    "\tdecoder_outputs, _, _ = decoder_lstm(decoder_inputs, initial_state=encoder_states)\n",
    "\tdecoder_dense = Dense(n_output, activation='softmax')\n",
    "\tdecoder_outputs = decoder_dense(decoder_outputs)\n",
    "\tmodel = Model([encoder_inputs, decoder_inputs], decoder_outputs)\n",
    "\t# define inference encoder\n",
    "\tencoder_model = Model(encoder_inputs, encoder_states)\n",
    "\t# define inference decoder\n",
    "\tdecoder_state_input_h = Input(shape=(n_units,))\n",
    "\tdecoder_state_input_c = Input(shape=(n_units,))\n",
    "\tdecoder_states_inputs = [decoder_state_input_h, decoder_state_input_c]\n",
    "\tdecoder_outputs, state_h, state_c = decoder_lstm(decoder_inputs, initial_state=decoder_states_inputs)\n",
    "\tdecoder_states = [state_h, state_c]\n",
    "\tdecoder_outputs = decoder_dense(decoder_outputs)\n",
    "\tdecoder_model = Model([decoder_inputs] + decoder_states_inputs, [decoder_outputs] + decoder_states)\n",
    "\t# return all models\n",
    "\treturn model, encoder_model, decoder_model"
   ]
  },
  {
   "cell_type": "code",
   "execution_count": 7,
   "metadata": {},
   "outputs": [],
   "source": [
    "def predict_sequence(infenc, infdec, source, n_steps, cardinality):\n",
    "\t# encode\n",
    "\tstate = infenc.predict(source)\n",
    "\t# start of sequence input\n",
    "\ttarget_seq = array([0.0 for _ in range(cardinality)]).reshape(1, 1, cardinality)\n",
    "\t# collect predictions\n",
    "\toutput = list()\n",
    "\tfor t in range(n_steps):\n",
    "\t\t# predict next char\n",
    "\t\tyhat, h, c = infdec.predict([target_seq] + state)\n",
    "\t\t# store prediction\n",
    "\t\toutput.append(yhat[0,0,:])\n",
    "\t\t# update state\n",
    "\t\tstate = [h, c]\n",
    "\t\t# update target sequence\n",
    "\t\ttarget_seq = yhat\n",
    "\treturn array(output)"
   ]
  },
  {
   "cell_type": "markdown",
   "metadata": {},
   "source": [
    "# Scalable Sequence to Sequence problem"
   ]
  },
  {
   "cell_type": "code",
   "execution_count": 8,
   "metadata": {
    "tags": []
   },
   "outputs": [],
   "source": [
    "from random import randint\n",
    "from numpy import array\n",
    "import numpy as np\n",
    "from numpy import argmax\n",
    "from tensorflow.keras.utils import to_categorical\n",
    "\n",
    "#generate a sequence of random integers\n",
    "def generate_sequence(length, n_unique):\n",
    "    return [randint(1, n_unique -1 ) for _ in range(length)]\n",
    "\n",
    "#prepare the data for lstm\n",
    "def get_dataset(n_in, n_out, cardinality, n_samples):\n",
    "    X1, X2, y = list(), list(), list()\n",
    "\n",
    "    for _ in range(n_samples):\n",
    "        #generate source sequence\n",
    "        source = generate_sequence(n_in, cardinality)\n",
    "        #define target sequence\n",
    "        target = source[:n_out]\n",
    "        target.reverse()\n",
    "        #create padded target input\n",
    "        target_in = [0] + target[:-1]\n",
    "\n",
    "        #encode\n",
    "        src_encoded = to_categorical([source], num_classes = cardinality)\n",
    "        tar_encoded = to_categorical([target], num_classes = cardinality)\n",
    "        tar2_encoded = to_categorical([target_in], num_classes = cardinality)\n",
    "\n",
    "        #store\n",
    "        X1.append(src_encoded)\n",
    "        X2.append(tar2_encoded)\n",
    "        y.append(tar_encoded)\n",
    "\n",
    "    return array(X1), array(X2), array(y)\n",
    "\n",
    "#decode a one-hot-encoded string\n",
    "def one_hot_decode(encoded_seq):\n",
    "    return [argmax(vector) for vector in encoded_seq]\n",
    "\n",
    "\n",
    "\n",
    "# X1, X2, y = get_dataset(n_steps_in, n_steps_out, n_features, n_samples)\n",
    "# X1 = X1.reshape((n_samples,n_steps_in,n_features))\n",
    "# X2 = X2.reshape((n_samples,n_steps_out,n_features))\n",
    "# y = y.reshape((n_samples,n_steps_out,n_features))\n",
    "# print(X1.shape, X2.shape, y.shape)\n",
    "# print('X1=%s, X2=%s, y=%s' % (one_hot_decode(X1[0]), one_hot_decode(X2[0]), one_hot_decode(y[0])))\n"
   ]
  },
  {
   "cell_type": "code",
   "execution_count": 11,
   "metadata": {
    "tags": []
   },
   "outputs": [
    {
     "output_type": "stream",
     "name": "stdout",
     "text": "Shape of data\n(100000, 6, 51) (100000, 3, 51) (100000, 3, 51)\n[[0. 0. 0. 0. 0. 0. 0. 0. 0. 0. 0. 0. 0. 0. 0. 0. 0. 0. 1. 0. 0. 0. 0. 0.\n  0. 0. 0. 0. 0. 0. 0. 0. 0. 0. 0. 0. 0. 0. 0. 0. 0. 0. 0. 0. 0. 0. 0. 0.\n  0. 0. 0.]\n [0. 0. 0. 0. 0. 0. 0. 0. 0. 0. 0. 0. 0. 0. 0. 0. 0. 0. 0. 0. 0. 0. 0. 0.\n  0. 0. 0. 0. 0. 0. 0. 0. 0. 0. 0. 0. 0. 0. 0. 0. 0. 0. 0. 0. 0. 0. 0. 0.\n  1. 0. 0.]\n [0. 0. 0. 0. 0. 0. 0. 0. 0. 0. 0. 0. 0. 0. 0. 0. 0. 0. 0. 0. 0. 0. 0. 0.\n  0. 0. 0. 0. 0. 0. 0. 0. 0. 0. 0. 0. 0. 0. 0. 0. 0. 0. 0. 0. 0. 1. 0. 0.\n  0. 0. 0.]\n [0. 0. 0. 0. 0. 0. 0. 0. 0. 0. 0. 0. 0. 0. 0. 0. 1. 0. 0. 0. 0. 0. 0. 0.\n  0. 0. 0. 0. 0. 0. 0. 0. 0. 0. 0. 0. 0. 0. 0. 0. 0. 0. 0. 0. 0. 0. 0. 0.\n  0. 0. 0.]\n [0. 0. 0. 0. 0. 0. 0. 0. 0. 0. 0. 0. 0. 0. 0. 0. 0. 1. 0. 0. 0. 0. 0. 0.\n  0. 0. 0. 0. 0. 0. 0. 0. 0. 0. 0. 0. 0. 0. 0. 0. 0. 0. 0. 0. 0. 0. 0. 0.\n  0. 0. 0.]\n [0. 0. 0. 0. 0. 0. 0. 0. 0. 0. 0. 0. 0. 1. 0. 0. 0. 0. 0. 0. 0. 0. 0. 0.\n  0. 0. 0. 0. 0. 0. 0. 0. 0. 0. 0. 0. 0. 0. 0. 0. 0. 0. 0. 0. 0. 0. 0. 0.\n  0. 0. 0.]]\n"
    },
    {
     "output_type": "error",
     "ename": "SystemExit",
     "evalue": "",
     "traceback": [
      "An exception has occurred, use %tb to see the full traceback.\n",
      "\u001b[1;31mSystemExit\u001b[0m\n"
     ]
    }
   ],
   "source": [
    "#configure problem\n",
    "import sys\n",
    "\n",
    "n_features = 50 + 1\n",
    "n_steps_in = 6\n",
    "n_steps_out = 3\n",
    "samples = 100000\n",
    "\n",
    "#define model\n",
    "train, infenc, infdec = define_models(n_features, n_features, 128)\n",
    "train.compile(optimizer = 'adam', loss = 'categorical_crossentropy', metrics=['accuracy'])\n",
    "\n",
    "#generate training dataset\n",
    "X1, X2, y = get_dataset(n_steps_in, n_steps_out, n_features, samples)\n",
    "X1 = X1.reshape((samples,n_steps_in,n_features))\n",
    "X2 = X2.reshape((samples,n_steps_out,n_features))\n",
    "y = y.reshape((samples,n_steps_out,n_features))\n",
    "print(\"Shape of data\")\n",
    "print(X1.shape,X2.shape,y.shape)\n",
    "print(X1[0])\n",
    "sys.exit()\n",
    "#train model\n",
    "train.fit([X1, X2], y, epochs = 1)\n",
    "\n",
    "#evaluate LSTM\n",
    "total, correct = 100, 0\n",
    "for _ in range(total):\n",
    "    X1, X2, y = get_dataset(n_steps_in, n_steps_out, n_features, 1)\n",
    "    X1 = X1.reshape((1,n_steps_in,n_features))\n",
    "    X2 = X2.reshape((1,n_steps_out,n_features))\n",
    "    y  = y.reshape((1,n_steps_out,n_features))\n",
    "    target = predict_sequence(infenc, infdec, X1, n_steps_out, n_features)\n",
    "    if np.array_equal(one_hot_decode(y[0]), one_hot_decode(target)):\n",
    "        correct += 1\n",
    "print('Accuracy: %.2f%%' % (float(correct)/float(total)*100.0))\n",
    "# spot check some examples\n",
    "for _ in range(10):\n",
    "    X1, X2, y = get_dataset(n_steps_in, n_steps_out, n_features, 1)\n",
    "    X1 = X1.reshape((1,n_steps_in,n_features))\n",
    "    X2 = X2.reshape((1,n_steps_out,n_features))\n",
    "    y  = y.reshape((1,n_steps_out,n_features))\n",
    "    target = predict_sequence(infenc, infdec, X1, n_steps_out, n_features)\n",
    "    print('X=%s y=%s, yhat=%s' % (one_hot_decode(X1[0]), one_hot_decode(y[0]), one_hot_decode(target)))"
   ]
  },
  {
   "cell_type": "code",
   "execution_count": null,
   "metadata": {},
   "outputs": [],
   "source": []
  },
  {
   "cell_type": "code",
   "execution_count": null,
   "metadata": {},
   "outputs": [],
   "source": []
  }
 ],
 "metadata": {
  "kernelspec": {
   "display_name": "Python 3.7.7 64-bit",
   "language": "python",
   "name": "python37764bit666d694f0ba049f896b21d05a73efa4f"
  },
  "language_info": {
   "codemirror_mode": {
    "name": "ipython",
    "version": 3
   },
   "file_extension": ".py",
   "mimetype": "text/x-python",
   "name": "python",
   "nbconvert_exporter": "python",
   "pygments_lexer": "ipython3",
   "version": "3.7.7-final"
  }
 },
 "nbformat": 4,
 "nbformat_minor": 4
}
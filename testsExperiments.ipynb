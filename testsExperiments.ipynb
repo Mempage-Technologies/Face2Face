{
 "metadata": {
  "language_info": {
   "codemirror_mode": {
    "name": "ipython",
    "version": 3
   },
   "file_extension": ".py",
   "mimetype": "text/x-python",
   "name": "python",
   "nbconvert_exporter": "python",
   "pygments_lexer": "ipython3",
   "version": "3.7.7-final"
  },
  "orig_nbformat": 2,
  "kernelspec": {
   "name": "python37764bit666d694f0ba049f896b21d05a73efa4f",
   "display_name": "Python 3.7.7 64-bit"
  }
 },
 "nbformat": 4,
 "nbformat_minor": 2,
 "cells": [
  {
   "cell_type": "code",
   "execution_count": 3,
   "metadata": {},
   "outputs": [],
   "source": [
    "import tensorflow as tf\n",
    "from tensorflow.keras.models import Model\n",
    "from tensorflow.keras.layers import Input\n",
    "from tensorflow.keras.layers import LSTM\n",
    "from numpy import array"
   ]
  },
  {
   "cell_type": "markdown",
   "metadata": {},
   "source": [
    "## Check return sequences output in LSTM"
   ]
  },
  {
   "cell_type": "code",
   "execution_count": 6,
   "metadata": {
    "tags": []
   },
   "outputs": [
    {
     "output_type": "stream",
     "name": "stdout",
     "text": "[[-0.07278257]]\n"
    }
   ],
   "source": [
    "#define the model\n",
    "inputs1 = Input(shape=(3,1))\n",
    "lstm1   = LSTM(1)(inputs1)\n",
    "model   = Model(inputs = inputs1, outputs = lstm1)\n",
    "#define input data\n",
    "data = array([0.1, 0.2, 0.3]).reshape((1,3,1))\n",
    "#make and show prediction\n",
    "print(model.predict(data))"
   ]
  },
  {
   "cell_type": "markdown",
   "metadata": {},
   "source": [
    "The above model gives single hidden state for three time steps. We can obtain the hidden state for each time step."
   ]
  },
  {
   "cell_type": "code",
   "execution_count": 7,
   "metadata": {
    "tags": []
   },
   "outputs": [
    {
     "output_type": "stream",
     "name": "stdout",
     "text": "[[[0.01146479]\n  [0.0311129 ]\n  [0.05601001]]]\n"
    }
   ],
   "source": [
    "#define the model\n",
    "inputs1 = Input(shape=(3,1))\n",
    "lstm1   = LSTM(1, return_sequences=True)(inputs1)\n",
    "model   = Model(inputs = inputs1, outputs = lstm1)\n",
    "#define input data\n",
    "data = array([0.1, 0.2, 0.3]).reshape((1,3,1))\n",
    "#make and show prediction\n",
    "print(model.predict(data))"
   ]
  },
  {
   "cell_type": "markdown",
   "metadata": {},
   "source": [
    "## Return States"
   ]
  },
  {
   "cell_type": "code",
   "execution_count": 8,
   "metadata": {
    "tags": []
   },
   "outputs": [
    {
     "output_type": "stream",
     "name": "stdout",
     "text": "[array([[0.02113167]], dtype=float32), array([[0.02113167]], dtype=float32), array([[0.04163989]], dtype=float32)]\n"
    }
   ],
   "source": [
    "#define the model\n",
    "inputs1 = Input(shape=(3,1))\n",
    "lstm1, state_h, state_c   = LSTM(1, return_state=True)(inputs1)\n",
    "model   = Model(inputs = inputs1, outputs = [lstm1, state_h, state_c])\n",
    "#define input data\n",
    "data = array([0.1, 0.2, 0.3]).reshape((1,3,1))\n",
    "#make and show prediction\n",
    "print(model.predict(data))"
   ]
  },
  {
   "cell_type": "markdown",
   "metadata": {},
   "source": [
    "## Return States and sequences"
   ]
  },
  {
   "cell_type": "code",
   "execution_count": 9,
   "metadata": {
    "tags": []
   },
   "outputs": [
    {
     "output_type": "stream",
     "name": "stdout",
     "text": "[array([[[-0.02711373],\n        [-0.07580496],\n        [-0.13912186]]], dtype=float32), array([[-0.13912186]], dtype=float32), array([[-0.26157045]], dtype=float32)]\n"
    }
   ],
   "source": [
    "#define the model\n",
    "inputs1 = Input(shape=(3,1))\n",
    "lstm1, state_h, state_c   = LSTM(1, return_state=True, return_sequences=True)(inputs1)\n",
    "model   = Model(inputs = inputs1, outputs = [lstm1, state_h, state_c])\n",
    "#define input data\n",
    "data = array([0.1, 0.2, 0.3]).reshape((1,3,1))\n",
    "#make and show prediction\n",
    "print(model.predict(data))"
   ]
  },
  {
   "cell_type": "markdown",
   "metadata": {},
   "source": [
    "# Encoder Decoder Example"
   ]
  },
  {
   "cell_type": "code",
   "execution_count": 13,
   "metadata": {},
   "outputs": [],
   "source": [
    "def define_models(n_input, n_output, n_units):\n",
    "\n",
    "    #define training encoder\n",
    "    encoder_inputs = Input(shape = (None, n_input))\n",
    "    encoder = LSTM(n_untis, return_state=True)\n",
    "    encoder_outputs, state_h, state_c = encoder(encoder_inputs)\n",
    "    encoder_states = [state_h, state_c]\n",
    "\n",
    "    #define training decoder\n",
    "    decoder_inputs = Input(shape=(None, n_output))\n",
    "    decoder_lstm = LSTM(n_units, return_sequences=True, return_state=True)\n",
    "    decoder_outputs, _, _ = decoder_lstm(decoder_inputs, initial_state = encoder_states)\n",
    "    decoder_dense = Dense(n_output, activatin = \"softmax\")\n",
    "    model = Model([encoder_inputs, decoder_inputs], decoder_outputs)\n",
    "\n",
    "    #define inference encoder\n",
    "    encoder_model = Model(encoder_inputs, encoder_states)\n",
    "\n",
    "    #define inference decoder\n",
    "    decoder_state_input_h = Input(shape=(n_units,))\n",
    "    decoder_state_input_c = Input(shape=(n_units,))\n",
    "    decoder_states_inputs = [decoder_state_input_h, decoder_state_input_c]\n",
    "    decoder_outputs, state_h, state_c = decoder_lstm(decoder_inputs, initial_state=decoder_states_inputs)\n",
    "    decoder_states = [state_h, state_c]\n",
    "    decoder_outputs = decoder_dense(decoder_outputs)\n",
    "    decoder_model = Model([decoder_inputs] + decoder_states_inputs, [decoder_outputs] + decoder_states)\n",
    "\n",
    "    #return all models\n",
    "    return model, encoder_model, decoder_model"
   ]
  },
  {
   "cell_type": "code",
   "execution_count": 14,
   "metadata": {},
   "outputs": [],
   "source": [
    "def predict_sequence(infenc, infdec, source, n_steps, cardinality):\n",
    "\t# encode\n",
    "\tstate = infenc.predict(source)\n",
    "\t# start of sequence input\n",
    "\ttarget_seq = array([0.0 for _ in range(cardinality)]).reshape(1, 1, cardinality)\n",
    "\t# collect predictions\n",
    "\toutput = list()\n",
    "\tfor t in range(n_steps):\n",
    "\t\t# predict next char\n",
    "\t\tyhat, h, c = infdec.predict([target_seq] + state)\n",
    "\t\t# store prediction\n",
    "\t\toutput.append(yhat[0,0,:])\n",
    "\t\t# update state\n",
    "\t\tstate = [h, c]\n",
    "\t\t# update target sequence\n",
    "\t\ttarget_seq = yhat\n",
    "\treturn array(output)"
   ]
  },
  {
   "cell_type": "markdown",
   "metadata": {},
   "source": [
    "# Scalable Sequence to Sequence problem"
   ]
  },
  {
   "cell_type": "code",
   "execution_count": null,
   "metadata": {},
   "outputs": [],
   "source": [
    "n_features = 50 + 1\n",
    "\n",
    "#generate a sequence of random integers\n",
    "def generate_sequence(length, n_unique):\n",
    "    return [randint(1, n_unique -1) for _ in range(length)]\n",
    "\n",
    "def get_dataset(n_in, n_out, cardinality, n_samples):\n",
    "    pass"
   ]
  }
 ]
}
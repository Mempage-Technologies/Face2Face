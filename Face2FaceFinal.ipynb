{
 "cells": [
  {
   "cell_type": "markdown",
   "metadata": {},
   "source": [
    "# Face to Face Conversation System using Deep Neural Networks"
   ]
  },
  {
   "cell_type": "markdown",
   "metadata": {},
   "source": [
    "The project involves the following steps taken by Rahul Sharma with reference from the research paper.<br>\n",
    "\n",
    "1. Create a dummy dataset(since collection of original dataset will take a lot of time)<br>\n",
    "2. Create an encoder decoder architecture for the speaking and listening model\n",
    "3. Implement the conversational model\n",
    "4. Test the speaking and listening models\n",
    "5. Take the output of the speaking and listening models\n",
    "6. Implement Pix2Pix HD GAN to get the final output\n",
    "\n",
    "In the middle there will be certain tests to perform which will come as the project proceeds."
   ]
  },
  {
   "cell_type": "markdown",
   "metadata": {},
   "source": [
    "## 1. Creation of a dummy dataset"
   ]
  },
  {
   "cell_type": "markdown",
   "metadata": {},
   "source": [
    "The dummy dataset needs the Facial Action Units + Face Pose of the listener and speaker. These are 20 dimensional vectors which are created arbitrarily from the "
   ]
  },
  {
   "cell_type": "code",
   "execution_count": null,
   "metadata": {},
   "outputs": [],
   "source": []
  }
 ],
 "metadata": {
  "kernelspec": {
   "display_name": "Python 3",
   "language": "python",
   "name": "python3"
  },
  "language_info": {
   "codemirror_mode": {
    "name": "ipython",
    "version": 3
   },
   "file_extension": ".py",
   "mimetype": "text/x-python",
   "name": "python",
   "nbconvert_exporter": "python",
   "pygments_lexer": "ipython3",
   "version": "3.7.7"
  }
 },
 "nbformat": 4,
 "nbformat_minor": 4
}

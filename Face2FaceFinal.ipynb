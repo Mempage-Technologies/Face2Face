{
 "cells": [
  {
   "cell_type": "markdown",
   "metadata": {},
   "source": [
    "# Face to Face Conversation System using Deep Neural Networks"
   ]
  },
  {
   "cell_type": "markdown",
   "metadata": {},
   "source": [
    "The project involves the following steps taken by Rahul Sharma with reference from the research paper.<br>\n",
    "\n",
    "1. Create a dummy dataset(since collection of original dataset will take a lot of time)<br>\n",
    "2. Create an encoder decoder architecture for the speaking and listening model\n",
    "3. Implement the conversational model\n",
    "4. Test the speaking and listening models\n",
    "5. Take the output of the speaking and listening models\n",
    "6. Implement Pix2Pix HD GAN to get the final output\n",
    "\n",
    "In the middle there will be certain tests to perform which will come as the project proceeds."
   ]
  },
  {
   "cell_type": "markdown",
   "metadata": {},
   "source": [
    "## 1. Creation of a dummy dataset"
   ]
  },
  {
   "cell_type": "markdown",
   "metadata": {},
   "source": [
    "The dummy dataset needs the Facial Action Units + Face Pose of the listener and speaker. These are 20 dimensional vectors which are created arbitrarily from the OpenFace software outputs.\n",
    "\n",
    "!CAUTION!: the data used in this notebook is arbitrarily generated. The final data that will be used will come from read videos of conversations"
   ]
  },
  {
   "cell_type": "code",
   "execution_count": 28,
   "metadata": {},
   "outputs": [
    {
     "output_type": "execute_result",
     "data": {
      "text/plain": "      frame   face_id   timestamp   pose_Rx   pose_Ry   pose_Rz   AU01_r  \\\n0         1         0       0.000    -0.008     0.413     0.112     1.55   \n1         2         0       0.033    -0.018     0.399     0.124     1.58   \n2         3         0       0.067    -0.020     0.397     0.133     1.55   \n3         4         0       0.100    -0.026     0.396     0.144     1.42   \n4         5         0       0.133    -0.031     0.397     0.155     1.24   \n...     ...       ...         ...       ...       ...       ...      ...   \n2431   2432         0      81.114    -0.206    -0.859    -0.321     0.87   \n2432   2433         0      81.148    -0.191    -0.770    -0.282     0.67   \n2433   2434         0      81.181    -0.125    -0.727    -0.246     0.54   \n2434   2435         0      81.214    -0.068    -0.708    -0.214     0.50   \n2435   2436         0      81.248     0.002    -0.705    -0.163     0.55   \n\n       AU02_r   AU04_r   AU05_r  ...   AU12_c   AU14_c   AU15_c   AU17_c  \\\n0        0.00     0.41      0.0  ...        0        0        0        1   \n1        0.00     0.36      0.0  ...        0        0        0        1   \n2        0.00     0.34      0.0  ...        0        0        0        1   \n3        0.00     0.37      0.0  ...        0        0        0        1   \n4        0.00     0.39      0.0  ...        0        0        0        1   \n...       ...      ...      ...  ...      ...      ...      ...      ...   \n2431     0.74     0.21      0.0  ...        0        1        1        0   \n2432     0.45     0.00      0.0  ...        1        1        1        0   \n2433     0.23     0.00      0.0  ...        1        1        1        0   \n2434     0.00     0.00      0.0  ...        1        1        1        0   \n2435     0.00     0.00      0.0  ...        1        1        1        0   \n\n       AU20_c   AU23_c   AU25_c   AU26_c   AU28_c   AU45_c  \n0           1        1        0        0        0        1  \n1           1        1        0        0        0        1  \n2           1        1        0        0        0        1  \n3           1        1        0        0        0        1  \n4           1        1        0        0        0        1  \n...       ...      ...      ...      ...      ...      ...  \n2431        0        1        0        0        0        1  \n2432        0        1        0        0        0        1  \n2433        0        1        0        0        0        1  \n2434        0        1        0        0        0        0  \n2435        0        1        0        0        0        0  \n\n[2436 rows x 41 columns]",
      "text/html": "<div>\n<style scoped>\n    .dataframe tbody tr th:only-of-type {\n        vertical-align: middle;\n    }\n\n    .dataframe tbody tr th {\n        vertical-align: top;\n    }\n\n    .dataframe thead th {\n        text-align: right;\n    }\n</style>\n<table border=\"1\" class=\"dataframe\">\n  <thead>\n    <tr style=\"text-align: right;\">\n      <th></th>\n      <th>frame</th>\n      <th>face_id</th>\n      <th>timestamp</th>\n      <th>pose_Rx</th>\n      <th>pose_Ry</th>\n      <th>pose_Rz</th>\n      <th>AU01_r</th>\n      <th>AU02_r</th>\n      <th>AU04_r</th>\n      <th>AU05_r</th>\n      <th>...</th>\n      <th>AU12_c</th>\n      <th>AU14_c</th>\n      <th>AU15_c</th>\n      <th>AU17_c</th>\n      <th>AU20_c</th>\n      <th>AU23_c</th>\n      <th>AU25_c</th>\n      <th>AU26_c</th>\n      <th>AU28_c</th>\n      <th>AU45_c</th>\n    </tr>\n  </thead>\n  <tbody>\n    <tr>\n      <th>0</th>\n      <td>1</td>\n      <td>0</td>\n      <td>0.000</td>\n      <td>-0.008</td>\n      <td>0.413</td>\n      <td>0.112</td>\n      <td>1.55</td>\n      <td>0.00</td>\n      <td>0.41</td>\n      <td>0.0</td>\n      <td>...</td>\n      <td>0</td>\n      <td>0</td>\n      <td>0</td>\n      <td>1</td>\n      <td>1</td>\n      <td>1</td>\n      <td>0</td>\n      <td>0</td>\n      <td>0</td>\n      <td>1</td>\n    </tr>\n    <tr>\n      <th>1</th>\n      <td>2</td>\n      <td>0</td>\n      <td>0.033</td>\n      <td>-0.018</td>\n      <td>0.399</td>\n      <td>0.124</td>\n      <td>1.58</td>\n      <td>0.00</td>\n      <td>0.36</td>\n      <td>0.0</td>\n      <td>...</td>\n      <td>0</td>\n      <td>0</td>\n      <td>0</td>\n      <td>1</td>\n      <td>1</td>\n      <td>1</td>\n      <td>0</td>\n      <td>0</td>\n      <td>0</td>\n      <td>1</td>\n    </tr>\n    <tr>\n      <th>2</th>\n      <td>3</td>\n      <td>0</td>\n      <td>0.067</td>\n      <td>-0.020</td>\n      <td>0.397</td>\n      <td>0.133</td>\n      <td>1.55</td>\n      <td>0.00</td>\n      <td>0.34</td>\n      <td>0.0</td>\n      <td>...</td>\n      <td>0</td>\n      <td>0</td>\n      <td>0</td>\n      <td>1</td>\n      <td>1</td>\n      <td>1</td>\n      <td>0</td>\n      <td>0</td>\n      <td>0</td>\n      <td>1</td>\n    </tr>\n    <tr>\n      <th>3</th>\n      <td>4</td>\n      <td>0</td>\n      <td>0.100</td>\n      <td>-0.026</td>\n      <td>0.396</td>\n      <td>0.144</td>\n      <td>1.42</td>\n      <td>0.00</td>\n      <td>0.37</td>\n      <td>0.0</td>\n      <td>...</td>\n      <td>0</td>\n      <td>0</td>\n      <td>0</td>\n      <td>1</td>\n      <td>1</td>\n      <td>1</td>\n      <td>0</td>\n      <td>0</td>\n      <td>0</td>\n      <td>1</td>\n    </tr>\n    <tr>\n      <th>4</th>\n      <td>5</td>\n      <td>0</td>\n      <td>0.133</td>\n      <td>-0.031</td>\n      <td>0.397</td>\n      <td>0.155</td>\n      <td>1.24</td>\n      <td>0.00</td>\n      <td>0.39</td>\n      <td>0.0</td>\n      <td>...</td>\n      <td>0</td>\n      <td>0</td>\n      <td>0</td>\n      <td>1</td>\n      <td>1</td>\n      <td>1</td>\n      <td>0</td>\n      <td>0</td>\n      <td>0</td>\n      <td>1</td>\n    </tr>\n    <tr>\n      <th>...</th>\n      <td>...</td>\n      <td>...</td>\n      <td>...</td>\n      <td>...</td>\n      <td>...</td>\n      <td>...</td>\n      <td>...</td>\n      <td>...</td>\n      <td>...</td>\n      <td>...</td>\n      <td>...</td>\n      <td>...</td>\n      <td>...</td>\n      <td>...</td>\n      <td>...</td>\n      <td>...</td>\n      <td>...</td>\n      <td>...</td>\n      <td>...</td>\n      <td>...</td>\n      <td>...</td>\n    </tr>\n    <tr>\n      <th>2431</th>\n      <td>2432</td>\n      <td>0</td>\n      <td>81.114</td>\n      <td>-0.206</td>\n      <td>-0.859</td>\n      <td>-0.321</td>\n      <td>0.87</td>\n      <td>0.74</td>\n      <td>0.21</td>\n      <td>0.0</td>\n      <td>...</td>\n      <td>0</td>\n      <td>1</td>\n      <td>1</td>\n      <td>0</td>\n      <td>0</td>\n      <td>1</td>\n      <td>0</td>\n      <td>0</td>\n      <td>0</td>\n      <td>1</td>\n    </tr>\n    <tr>\n      <th>2432</th>\n      <td>2433</td>\n      <td>0</td>\n      <td>81.148</td>\n      <td>-0.191</td>\n      <td>-0.770</td>\n      <td>-0.282</td>\n      <td>0.67</td>\n      <td>0.45</td>\n      <td>0.00</td>\n      <td>0.0</td>\n      <td>...</td>\n      <td>1</td>\n      <td>1</td>\n      <td>1</td>\n      <td>0</td>\n      <td>0</td>\n      <td>1</td>\n      <td>0</td>\n      <td>0</td>\n      <td>0</td>\n      <td>1</td>\n    </tr>\n    <tr>\n      <th>2433</th>\n      <td>2434</td>\n      <td>0</td>\n      <td>81.181</td>\n      <td>-0.125</td>\n      <td>-0.727</td>\n      <td>-0.246</td>\n      <td>0.54</td>\n      <td>0.23</td>\n      <td>0.00</td>\n      <td>0.0</td>\n      <td>...</td>\n      <td>1</td>\n      <td>1</td>\n      <td>1</td>\n      <td>0</td>\n      <td>0</td>\n      <td>1</td>\n      <td>0</td>\n      <td>0</td>\n      <td>0</td>\n      <td>1</td>\n    </tr>\n    <tr>\n      <th>2434</th>\n      <td>2435</td>\n      <td>0</td>\n      <td>81.214</td>\n      <td>-0.068</td>\n      <td>-0.708</td>\n      <td>-0.214</td>\n      <td>0.50</td>\n      <td>0.00</td>\n      <td>0.00</td>\n      <td>0.0</td>\n      <td>...</td>\n      <td>1</td>\n      <td>1</td>\n      <td>1</td>\n      <td>0</td>\n      <td>0</td>\n      <td>1</td>\n      <td>0</td>\n      <td>0</td>\n      <td>0</td>\n      <td>0</td>\n    </tr>\n    <tr>\n      <th>2435</th>\n      <td>2436</td>\n      <td>0</td>\n      <td>81.248</td>\n      <td>0.002</td>\n      <td>-0.705</td>\n      <td>-0.163</td>\n      <td>0.55</td>\n      <td>0.00</td>\n      <td>0.00</td>\n      <td>0.0</td>\n      <td>...</td>\n      <td>1</td>\n      <td>1</td>\n      <td>1</td>\n      <td>0</td>\n      <td>0</td>\n      <td>1</td>\n      <td>0</td>\n      <td>0</td>\n      <td>0</td>\n      <td>0</td>\n    </tr>\n  </tbody>\n</table>\n<p>2436 rows × 41 columns</p>\n</div>"
     },
     "metadata": {},
     "execution_count": 28
    }
   ],
   "source": [
    "#importing the reqyired modules\n",
    "import pandas as pd\n",
    "import numpy as np\n",
    "import tensorflow as tf\n",
    "import os\n",
    "import random\n",
    "\n",
    "pathToData = \"./videoplayback.csv\"\n",
    "rawData    = pd.read_csv(pathToData)\n",
    "columns    = list(rawData.columns)\n",
    "rawData"
   ]
  },
  {
   "cell_type": "code",
   "execution_count": 12,
   "metadata": {},
   "outputs": [
    {
     "output_type": "execute_result",
     "data": {
      "text/plain": "       pose_Rx   pose_Ry   pose_Rz   AU01_r   AU02_r   AU04_r   AU05_r  \\\n0       -0.008     0.413     0.112     1.55     0.00     0.41      0.0   \n1       -0.018     0.399     0.124     1.58     0.00     0.36      0.0   \n2       -0.020     0.397     0.133     1.55     0.00     0.34      0.0   \n3       -0.026     0.396     0.144     1.42     0.00     0.37      0.0   \n4       -0.031     0.397     0.155     1.24     0.00     0.39      0.0   \n...        ...       ...       ...      ...      ...      ...      ...   \n2431    -0.206    -0.859    -0.321     0.87     0.74     0.21      0.0   \n2432    -0.191    -0.770    -0.282     0.67     0.45     0.00      0.0   \n2433    -0.125    -0.727    -0.246     0.54     0.23     0.00      0.0   \n2434    -0.068    -0.708    -0.214     0.50     0.00     0.00      0.0   \n2435     0.002    -0.705    -0.163     0.55     0.00     0.00      0.0   \n\n       AU06_r   AU07_r   AU09_r   AU10_r   AU12_r   AU14_r   AU15_r   AU17_r  \\\n0        0.08     0.00     0.56     0.19     0.00     0.35     0.00     2.11   \n1        0.03     0.00     0.55     0.19     0.00     0.36     0.00     2.03   \n2        0.01     0.00     0.52     0.22     0.00     0.36     0.00     1.99   \n3        0.00     0.00     0.53     0.20     0.00     0.28     0.00     2.05   \n4        0.00     0.00     0.54     0.20     0.00     0.30     0.00     2.05   \n...       ...      ...      ...      ...      ...      ...      ...      ...   \n2431     0.06     0.98     0.00     0.95     0.57     0.76     0.00     0.64   \n2432     0.18     1.26     0.00     1.25     0.76     1.06     0.23     0.47   \n2433     0.31     1.76     0.00     1.26     0.99     1.49     0.85     0.43   \n2434     0.43     2.05     0.00     1.16     1.03     1.84     1.39     0.34   \n2435     0.41     2.05     0.00     1.08     1.03     2.01     1.61     0.51   \n\n       AU20_r   AU23_r   AU25_r   AU26_r   AU45_r  \n0        0.44     0.00     0.00     0.00     0.74  \n1        0.41     0.00     0.00     0.00     0.57  \n2        0.33     0.07     0.00     0.00     0.56  \n3        0.30     0.16     0.00     0.00     0.50  \n4        0.23     0.30     0.00     0.00     0.37  \n...       ...      ...      ...      ...      ...  \n2431     0.00     0.04     0.67     1.65     1.48  \n2432     0.00     0.04     0.08     1.23     1.48  \n2433     0.00     0.04     0.00     0.70     1.36  \n2434     0.00     0.00     0.00     0.22     1.10  \n2435     0.00     0.01     0.00     0.00     0.74  \n\n[2436 rows x 20 columns]",
      "text/html": "<div>\n<style scoped>\n    .dataframe tbody tr th:only-of-type {\n        vertical-align: middle;\n    }\n\n    .dataframe tbody tr th {\n        vertical-align: top;\n    }\n\n    .dataframe thead th {\n        text-align: right;\n    }\n</style>\n<table border=\"1\" class=\"dataframe\">\n  <thead>\n    <tr style=\"text-align: right;\">\n      <th></th>\n      <th>pose_Rx</th>\n      <th>pose_Ry</th>\n      <th>pose_Rz</th>\n      <th>AU01_r</th>\n      <th>AU02_r</th>\n      <th>AU04_r</th>\n      <th>AU05_r</th>\n      <th>AU06_r</th>\n      <th>AU07_r</th>\n      <th>AU09_r</th>\n      <th>AU10_r</th>\n      <th>AU12_r</th>\n      <th>AU14_r</th>\n      <th>AU15_r</th>\n      <th>AU17_r</th>\n      <th>AU20_r</th>\n      <th>AU23_r</th>\n      <th>AU25_r</th>\n      <th>AU26_r</th>\n      <th>AU45_r</th>\n    </tr>\n  </thead>\n  <tbody>\n    <tr>\n      <th>0</th>\n      <td>-0.008</td>\n      <td>0.413</td>\n      <td>0.112</td>\n      <td>1.55</td>\n      <td>0.00</td>\n      <td>0.41</td>\n      <td>0.0</td>\n      <td>0.08</td>\n      <td>0.00</td>\n      <td>0.56</td>\n      <td>0.19</td>\n      <td>0.00</td>\n      <td>0.35</td>\n      <td>0.00</td>\n      <td>2.11</td>\n      <td>0.44</td>\n      <td>0.00</td>\n      <td>0.00</td>\n      <td>0.00</td>\n      <td>0.74</td>\n    </tr>\n    <tr>\n      <th>1</th>\n      <td>-0.018</td>\n      <td>0.399</td>\n      <td>0.124</td>\n      <td>1.58</td>\n      <td>0.00</td>\n      <td>0.36</td>\n      <td>0.0</td>\n      <td>0.03</td>\n      <td>0.00</td>\n      <td>0.55</td>\n      <td>0.19</td>\n      <td>0.00</td>\n      <td>0.36</td>\n      <td>0.00</td>\n      <td>2.03</td>\n      <td>0.41</td>\n      <td>0.00</td>\n      <td>0.00</td>\n      <td>0.00</td>\n      <td>0.57</td>\n    </tr>\n    <tr>\n      <th>2</th>\n      <td>-0.020</td>\n      <td>0.397</td>\n      <td>0.133</td>\n      <td>1.55</td>\n      <td>0.00</td>\n      <td>0.34</td>\n      <td>0.0</td>\n      <td>0.01</td>\n      <td>0.00</td>\n      <td>0.52</td>\n      <td>0.22</td>\n      <td>0.00</td>\n      <td>0.36</td>\n      <td>0.00</td>\n      <td>1.99</td>\n      <td>0.33</td>\n      <td>0.07</td>\n      <td>0.00</td>\n      <td>0.00</td>\n      <td>0.56</td>\n    </tr>\n    <tr>\n      <th>3</th>\n      <td>-0.026</td>\n      <td>0.396</td>\n      <td>0.144</td>\n      <td>1.42</td>\n      <td>0.00</td>\n      <td>0.37</td>\n      <td>0.0</td>\n      <td>0.00</td>\n      <td>0.00</td>\n      <td>0.53</td>\n      <td>0.20</td>\n      <td>0.00</td>\n      <td>0.28</td>\n      <td>0.00</td>\n      <td>2.05</td>\n      <td>0.30</td>\n      <td>0.16</td>\n      <td>0.00</td>\n      <td>0.00</td>\n      <td>0.50</td>\n    </tr>\n    <tr>\n      <th>4</th>\n      <td>-0.031</td>\n      <td>0.397</td>\n      <td>0.155</td>\n      <td>1.24</td>\n      <td>0.00</td>\n      <td>0.39</td>\n      <td>0.0</td>\n      <td>0.00</td>\n      <td>0.00</td>\n      <td>0.54</td>\n      <td>0.20</td>\n      <td>0.00</td>\n      <td>0.30</td>\n      <td>0.00</td>\n      <td>2.05</td>\n      <td>0.23</td>\n      <td>0.30</td>\n      <td>0.00</td>\n      <td>0.00</td>\n      <td>0.37</td>\n    </tr>\n    <tr>\n      <th>...</th>\n      <td>...</td>\n      <td>...</td>\n      <td>...</td>\n      <td>...</td>\n      <td>...</td>\n      <td>...</td>\n      <td>...</td>\n      <td>...</td>\n      <td>...</td>\n      <td>...</td>\n      <td>...</td>\n      <td>...</td>\n      <td>...</td>\n      <td>...</td>\n      <td>...</td>\n      <td>...</td>\n      <td>...</td>\n      <td>...</td>\n      <td>...</td>\n      <td>...</td>\n    </tr>\n    <tr>\n      <th>2431</th>\n      <td>-0.206</td>\n      <td>-0.859</td>\n      <td>-0.321</td>\n      <td>0.87</td>\n      <td>0.74</td>\n      <td>0.21</td>\n      <td>0.0</td>\n      <td>0.06</td>\n      <td>0.98</td>\n      <td>0.00</td>\n      <td>0.95</td>\n      <td>0.57</td>\n      <td>0.76</td>\n      <td>0.00</td>\n      <td>0.64</td>\n      <td>0.00</td>\n      <td>0.04</td>\n      <td>0.67</td>\n      <td>1.65</td>\n      <td>1.48</td>\n    </tr>\n    <tr>\n      <th>2432</th>\n      <td>-0.191</td>\n      <td>-0.770</td>\n      <td>-0.282</td>\n      <td>0.67</td>\n      <td>0.45</td>\n      <td>0.00</td>\n      <td>0.0</td>\n      <td>0.18</td>\n      <td>1.26</td>\n      <td>0.00</td>\n      <td>1.25</td>\n      <td>0.76</td>\n      <td>1.06</td>\n      <td>0.23</td>\n      <td>0.47</td>\n      <td>0.00</td>\n      <td>0.04</td>\n      <td>0.08</td>\n      <td>1.23</td>\n      <td>1.48</td>\n    </tr>\n    <tr>\n      <th>2433</th>\n      <td>-0.125</td>\n      <td>-0.727</td>\n      <td>-0.246</td>\n      <td>0.54</td>\n      <td>0.23</td>\n      <td>0.00</td>\n      <td>0.0</td>\n      <td>0.31</td>\n      <td>1.76</td>\n      <td>0.00</td>\n      <td>1.26</td>\n      <td>0.99</td>\n      <td>1.49</td>\n      <td>0.85</td>\n      <td>0.43</td>\n      <td>0.00</td>\n      <td>0.04</td>\n      <td>0.00</td>\n      <td>0.70</td>\n      <td>1.36</td>\n    </tr>\n    <tr>\n      <th>2434</th>\n      <td>-0.068</td>\n      <td>-0.708</td>\n      <td>-0.214</td>\n      <td>0.50</td>\n      <td>0.00</td>\n      <td>0.00</td>\n      <td>0.0</td>\n      <td>0.43</td>\n      <td>2.05</td>\n      <td>0.00</td>\n      <td>1.16</td>\n      <td>1.03</td>\n      <td>1.84</td>\n      <td>1.39</td>\n      <td>0.34</td>\n      <td>0.00</td>\n      <td>0.00</td>\n      <td>0.00</td>\n      <td>0.22</td>\n      <td>1.10</td>\n    </tr>\n    <tr>\n      <th>2435</th>\n      <td>0.002</td>\n      <td>-0.705</td>\n      <td>-0.163</td>\n      <td>0.55</td>\n      <td>0.00</td>\n      <td>0.00</td>\n      <td>0.0</td>\n      <td>0.41</td>\n      <td>2.05</td>\n      <td>0.00</td>\n      <td>1.08</td>\n      <td>1.03</td>\n      <td>2.01</td>\n      <td>1.61</td>\n      <td>0.51</td>\n      <td>0.00</td>\n      <td>0.01</td>\n      <td>0.00</td>\n      <td>0.00</td>\n      <td>0.74</td>\n    </tr>\n  </tbody>\n</table>\n<p>2436 rows × 20 columns</p>\n</div>"
     },
     "metadata": {},
     "execution_count": 12
    }
   ],
   "source": [
    "#taking the columns where we have the Pose and 17 action units (regression)\n",
    "filterColumns = columns[3:]\n",
    "filterColumns = [i for i in filterColumns if \"_r\" in i or \"pose\" in i]\n",
    "filterData    = rawData[filterColumns]\n",
    "filterData"
   ]
  },
  {
   "cell_type": "markdown",
   "metadata": {},
   "source": [
    "The filter columns now have the 20 dimensional vector that is needed to go into the encoder decoder architecture. Now, let's create the listener's dummy dataset for X,Y pairs of data points for our Enc-Dec speaking/listening model."
   ]
  },
  {
   "cell_type": "code",
   "execution_count": 20,
   "metadata": {
    "tags": []
   },
   "outputs": [
    {
     "output_type": "execute_result",
     "data": {
      "text/plain": "           pose_Rx      pose_Ry      pose_Rz       AU01_r       AU02_r  \\\ncount  2436.000000  2436.000000  2436.000000  2436.000000  2436.000000   \nmean      0.100613    -0.183204    -0.066628     0.503112     0.286720   \nstd       0.138948     0.418088     0.148935     0.776032     0.672829   \nmin      -0.225000    -0.906000    -0.537000     0.000000     0.000000   \n25%       0.022500    -0.407000    -0.133000     0.000000     0.000000   \n50%       0.097000    -0.305000    -0.078000     0.000000     0.000000   \n75%       0.188000     0.085250     0.022000     0.980000     0.090000   \nmax       1.216000     0.560000     0.188000     4.950000     4.980000   \n\n            AU04_r       AU05_r       AU06_r       AU07_r       AU09_r  \\\ncount  2436.000000  2436.000000  2436.000000  2436.000000  2436.000000   \nmean      0.446786     0.069557     0.434269     0.583543     0.143580   \nstd       0.688002     0.165909     0.422902     0.641360     0.284122   \nmin       0.000000     0.000000     0.000000     0.000000     0.000000   \n25%       0.000000     0.000000     0.000000     0.000000     0.000000   \n50%       0.090000     0.000000     0.360000     0.340000     0.000000   \n75%       0.580000     0.000000     0.740000     1.030000     0.120000   \nmax       3.310000     1.400000     2.290000     3.000000     2.170000   \n\n            AU10_r       AU12_r       AU14_r       AU15_r      AU17_r  \\\ncount  2436.000000  2436.000000  2436.000000  2436.000000  2436.00000   \nmean      1.020205     0.514840     0.449503     0.973247     0.94624   \nstd       0.693222     0.720615     0.581334     1.399184     0.79578   \nmin       0.000000     0.000000     0.000000     0.000000     0.00000   \n25%       0.480000     0.000000     0.000000     0.000000     0.22000   \n50%       0.930000     0.130000     0.190000     0.120000     0.73000   \n75%       1.502500     0.740000     0.692500     1.632500     1.84000   \nmax       3.260000     3.050000     2.810000     5.000000     2.87000   \n\n            AU20_r       AU23_r       AU25_r       AU26_r       AU45_r  \ncount  2436.000000  2436.000000  2436.000000  2436.000000  2436.000000  \nmean      0.165238     0.328354     0.798112     0.680447     0.181880  \nstd       0.316957     0.599710     0.711267     0.646511     0.305462  \nmin       0.000000     0.000000     0.000000     0.000000     0.000000  \n25%       0.000000     0.000000     0.110000     0.090000     0.000000  \n50%       0.000000     0.000000     0.660000     0.515000     0.000000  \n75%       0.230000     0.440000     1.370000     1.170000     0.300000  \nmax       2.480000     2.250000     3.720000     2.960000     1.870000  ",
      "text/html": "<div>\n<style scoped>\n    .dataframe tbody tr th:only-of-type {\n        vertical-align: middle;\n    }\n\n    .dataframe tbody tr th {\n        vertical-align: top;\n    }\n\n    .dataframe thead th {\n        text-align: right;\n    }\n</style>\n<table border=\"1\" class=\"dataframe\">\n  <thead>\n    <tr style=\"text-align: right;\">\n      <th></th>\n      <th>pose_Rx</th>\n      <th>pose_Ry</th>\n      <th>pose_Rz</th>\n      <th>AU01_r</th>\n      <th>AU02_r</th>\n      <th>AU04_r</th>\n      <th>AU05_r</th>\n      <th>AU06_r</th>\n      <th>AU07_r</th>\n      <th>AU09_r</th>\n      <th>AU10_r</th>\n      <th>AU12_r</th>\n      <th>AU14_r</th>\n      <th>AU15_r</th>\n      <th>AU17_r</th>\n      <th>AU20_r</th>\n      <th>AU23_r</th>\n      <th>AU25_r</th>\n      <th>AU26_r</th>\n      <th>AU45_r</th>\n    </tr>\n  </thead>\n  <tbody>\n    <tr>\n      <th>count</th>\n      <td>2436.000000</td>\n      <td>2436.000000</td>\n      <td>2436.000000</td>\n      <td>2436.000000</td>\n      <td>2436.000000</td>\n      <td>2436.000000</td>\n      <td>2436.000000</td>\n      <td>2436.000000</td>\n      <td>2436.000000</td>\n      <td>2436.000000</td>\n      <td>2436.000000</td>\n      <td>2436.000000</td>\n      <td>2436.000000</td>\n      <td>2436.000000</td>\n      <td>2436.00000</td>\n      <td>2436.000000</td>\n      <td>2436.000000</td>\n      <td>2436.000000</td>\n      <td>2436.000000</td>\n      <td>2436.000000</td>\n    </tr>\n    <tr>\n      <th>mean</th>\n      <td>0.100613</td>\n      <td>-0.183204</td>\n      <td>-0.066628</td>\n      <td>0.503112</td>\n      <td>0.286720</td>\n      <td>0.446786</td>\n      <td>0.069557</td>\n      <td>0.434269</td>\n      <td>0.583543</td>\n      <td>0.143580</td>\n      <td>1.020205</td>\n      <td>0.514840</td>\n      <td>0.449503</td>\n      <td>0.973247</td>\n      <td>0.94624</td>\n      <td>0.165238</td>\n      <td>0.328354</td>\n      <td>0.798112</td>\n      <td>0.680447</td>\n      <td>0.181880</td>\n    </tr>\n    <tr>\n      <th>std</th>\n      <td>0.138948</td>\n      <td>0.418088</td>\n      <td>0.148935</td>\n      <td>0.776032</td>\n      <td>0.672829</td>\n      <td>0.688002</td>\n      <td>0.165909</td>\n      <td>0.422902</td>\n      <td>0.641360</td>\n      <td>0.284122</td>\n      <td>0.693222</td>\n      <td>0.720615</td>\n      <td>0.581334</td>\n      <td>1.399184</td>\n      <td>0.79578</td>\n      <td>0.316957</td>\n      <td>0.599710</td>\n      <td>0.711267</td>\n      <td>0.646511</td>\n      <td>0.305462</td>\n    </tr>\n    <tr>\n      <th>min</th>\n      <td>-0.225000</td>\n      <td>-0.906000</td>\n      <td>-0.537000</td>\n      <td>0.000000</td>\n      <td>0.000000</td>\n      <td>0.000000</td>\n      <td>0.000000</td>\n      <td>0.000000</td>\n      <td>0.000000</td>\n      <td>0.000000</td>\n      <td>0.000000</td>\n      <td>0.000000</td>\n      <td>0.000000</td>\n      <td>0.000000</td>\n      <td>0.00000</td>\n      <td>0.000000</td>\n      <td>0.000000</td>\n      <td>0.000000</td>\n      <td>0.000000</td>\n      <td>0.000000</td>\n    </tr>\n    <tr>\n      <th>25%</th>\n      <td>0.022500</td>\n      <td>-0.407000</td>\n      <td>-0.133000</td>\n      <td>0.000000</td>\n      <td>0.000000</td>\n      <td>0.000000</td>\n      <td>0.000000</td>\n      <td>0.000000</td>\n      <td>0.000000</td>\n      <td>0.000000</td>\n      <td>0.480000</td>\n      <td>0.000000</td>\n      <td>0.000000</td>\n      <td>0.000000</td>\n      <td>0.22000</td>\n      <td>0.000000</td>\n      <td>0.000000</td>\n      <td>0.110000</td>\n      <td>0.090000</td>\n      <td>0.000000</td>\n    </tr>\n    <tr>\n      <th>50%</th>\n      <td>0.097000</td>\n      <td>-0.305000</td>\n      <td>-0.078000</td>\n      <td>0.000000</td>\n      <td>0.000000</td>\n      <td>0.090000</td>\n      <td>0.000000</td>\n      <td>0.360000</td>\n      <td>0.340000</td>\n      <td>0.000000</td>\n      <td>0.930000</td>\n      <td>0.130000</td>\n      <td>0.190000</td>\n      <td>0.120000</td>\n      <td>0.73000</td>\n      <td>0.000000</td>\n      <td>0.000000</td>\n      <td>0.660000</td>\n      <td>0.515000</td>\n      <td>0.000000</td>\n    </tr>\n    <tr>\n      <th>75%</th>\n      <td>0.188000</td>\n      <td>0.085250</td>\n      <td>0.022000</td>\n      <td>0.980000</td>\n      <td>0.090000</td>\n      <td>0.580000</td>\n      <td>0.000000</td>\n      <td>0.740000</td>\n      <td>1.030000</td>\n      <td>0.120000</td>\n      <td>1.502500</td>\n      <td>0.740000</td>\n      <td>0.692500</td>\n      <td>1.632500</td>\n      <td>1.84000</td>\n      <td>0.230000</td>\n      <td>0.440000</td>\n      <td>1.370000</td>\n      <td>1.170000</td>\n      <td>0.300000</td>\n    </tr>\n    <tr>\n      <th>max</th>\n      <td>1.216000</td>\n      <td>0.560000</td>\n      <td>0.188000</td>\n      <td>4.950000</td>\n      <td>4.980000</td>\n      <td>3.310000</td>\n      <td>1.400000</td>\n      <td>2.290000</td>\n      <td>3.000000</td>\n      <td>2.170000</td>\n      <td>3.260000</td>\n      <td>3.050000</td>\n      <td>2.810000</td>\n      <td>5.000000</td>\n      <td>2.87000</td>\n      <td>2.480000</td>\n      <td>2.250000</td>\n      <td>3.720000</td>\n      <td>2.960000</td>\n      <td>1.870000</td>\n    </tr>\n  </tbody>\n</table>\n</div>"
     },
     "metadata": {},
     "execution_count": 20
    }
   ],
   "source": [
    "#let's see some information about the data\n",
    "filterData.describe()"
   ]
  },
  {
   "cell_type": "markdown",
   "metadata": {},
   "source": [
    "Based on the description of the data, we will take the min and max values of each column. The values for the dummy dataset will be produced arbitrarily from the range of each column. This means that the dataset above will be the input to the enc-dec model and the dataset that we are generating in this section will be the output. Note that both input and output datasets for the listening model are in 20 dimensions."
   ]
  },
  {
   "cell_type": "code",
   "execution_count": 36,
   "metadata": {
    "tags": []
   },
   "outputs": [],
   "source": [
    "n = 2436\n",
    "dummyData = pd.DataFrame(columns = filterColumns)\n",
    "for colname in filterColumns:\n",
    "    maximum = filterData[colname].max()\n",
    "    minimum = filterData[colname].min()\n",
    "    valueList = []\n",
    "\n",
    "    for i in range(2436):\n",
    "        randomValue = random.uniform(minimum, maximum)\n",
    "        valueList.append(randomValue)\n",
    "    \n",
    "    dummyData[colname] = valueList\n"
   ]
  },
  {
   "cell_type": "code",
   "execution_count": 39,
   "metadata": {},
   "outputs": [],
   "source": [
    "#saving the dummyData\n",
    "pd.DataFrame.to_csv(dummyData, \"dummyData.csv\")"
   ]
  },
  {
   "cell_type": "code",
   "execution_count": null,
   "metadata": {},
   "outputs": [],
   "source": []
  }
 ],
 "metadata": {
  "kernelspec": {
   "display_name": "Python 3",
   "language": "python",
   "name": "python3"
  },
  "language_info": {
   "codemirror_mode": {
    "name": "ipython",
    "version": 3
   },
   "file_extension": ".py",
   "mimetype": "text/x-python",
   "name": "python",
   "nbconvert_exporter": "python",
   "pygments_lexer": "ipython3",
   "version": "3.7.7-final"
  }
 },
 "nbformat": 4,
 "nbformat_minor": 4
}